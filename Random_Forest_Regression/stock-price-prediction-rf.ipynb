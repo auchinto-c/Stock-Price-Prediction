{
 "cells": [
  {
   "cell_type": "markdown",
   "id": "d5db65a1",
   "metadata": {},
   "source": [
    "# Stock Price Prediction"
   ]
  },
  {
   "cell_type": "markdown",
   "id": "b790baf7",
   "metadata": {},
   "source": [
    "Objective: We need to predict if the stock would go up or down tomorrow, based on the available data."
   ]
  },
  {
   "cell_type": "markdown",
   "id": "3bd184bc",
   "metadata": {},
   "source": [
    "We need to make sure that we predict price goes up, when the price actually goes up. We need to maximise the True Positivity rate. We will achieve this by minimising the False Positive rate, that is when we predict that price goes up, but actually it goes down. This approach will help minimise the risk of investment.\n",
    "\n",
    "Therefore, we will be using `Precision` as the metric."
   ]
  },
  {
   "cell_type": "markdown",
   "id": "32299fb8",
   "metadata": {},
   "source": [
    "Precision = (true positives) / (false postives + true positives)"
   ]
  },
  {
   "cell_type": "markdown",
   "id": "2c9c98ea",
   "metadata": {},
   "source": [
    "## Libraries"
   ]
  },
  {
   "cell_type": "code",
   "execution_count": 17,
   "id": "4ad67890",
   "metadata": {},
   "outputs": [],
   "source": [
    "import yfinance as yf # Yahoo Finance Package\n",
    "from sklearn.ensemble import RandomForestClassifier\n",
    "from sklearn.metrics import precision_score\n",
    "import pandas as pd"
   ]
  },
  {
   "cell_type": "markdown",
   "id": "472e39c0",
   "metadata": {},
   "source": [
    "## Initialisations"
   ]
  },
  {
   "cell_type": "code",
   "execution_count": 5,
   "id": "2b2cfc09",
   "metadata": {},
   "outputs": [
    {
     "data": {
      "text/html": [
       "<div>\n",
       "<style scoped>\n",
       "    .dataframe tbody tr th:only-of-type {\n",
       "        vertical-align: middle;\n",
       "    }\n",
       "\n",
       "    .dataframe tbody tr th {\n",
       "        vertical-align: top;\n",
       "    }\n",
       "\n",
       "    .dataframe thead th {\n",
       "        text-align: right;\n",
       "    }\n",
       "</style>\n",
       "<table border=\"1\" class=\"dataframe\">\n",
       "  <thead>\n",
       "    <tr style=\"text-align: right;\">\n",
       "      <th></th>\n",
       "      <th>Open</th>\n",
       "      <th>High</th>\n",
       "      <th>Low</th>\n",
       "      <th>Close</th>\n",
       "      <th>Volume</th>\n",
       "      <th>Dividends</th>\n",
       "      <th>Stock Splits</th>\n",
       "    </tr>\n",
       "    <tr>\n",
       "      <th>Date</th>\n",
       "      <th></th>\n",
       "      <th></th>\n",
       "      <th></th>\n",
       "      <th></th>\n",
       "      <th></th>\n",
       "      <th></th>\n",
       "      <th></th>\n",
       "    </tr>\n",
       "  </thead>\n",
       "  <tbody>\n",
       "    <tr>\n",
       "      <th>1986-03-13</th>\n",
       "      <td>0.055654</td>\n",
       "      <td>0.063838</td>\n",
       "      <td>0.055654</td>\n",
       "      <td>0.061109</td>\n",
       "      <td>1031788800</td>\n",
       "      <td>0.0</td>\n",
       "      <td>0.0</td>\n",
       "    </tr>\n",
       "    <tr>\n",
       "      <th>1986-03-14</th>\n",
       "      <td>0.061109</td>\n",
       "      <td>0.064384</td>\n",
       "      <td>0.061109</td>\n",
       "      <td>0.063292</td>\n",
       "      <td>308160000</td>\n",
       "      <td>0.0</td>\n",
       "      <td>0.0</td>\n",
       "    </tr>\n",
       "    <tr>\n",
       "      <th>1986-03-17</th>\n",
       "      <td>0.063292</td>\n",
       "      <td>0.064929</td>\n",
       "      <td>0.063292</td>\n",
       "      <td>0.064384</td>\n",
       "      <td>133171200</td>\n",
       "      <td>0.0</td>\n",
       "      <td>0.0</td>\n",
       "    </tr>\n",
       "    <tr>\n",
       "      <th>1986-03-18</th>\n",
       "      <td>0.064384</td>\n",
       "      <td>0.064929</td>\n",
       "      <td>0.062201</td>\n",
       "      <td>0.062746</td>\n",
       "      <td>67766400</td>\n",
       "      <td>0.0</td>\n",
       "      <td>0.0</td>\n",
       "    </tr>\n",
       "    <tr>\n",
       "      <th>1986-03-19</th>\n",
       "      <td>0.062746</td>\n",
       "      <td>0.063292</td>\n",
       "      <td>0.061109</td>\n",
       "      <td>0.061655</td>\n",
       "      <td>47894400</td>\n",
       "      <td>0.0</td>\n",
       "      <td>0.0</td>\n",
       "    </tr>\n",
       "  </tbody>\n",
       "</table>\n",
       "</div>"
      ],
      "text/plain": [
       "                Open      High       Low     Close      Volume  Dividends  \\\n",
       "Date                                                                        \n",
       "1986-03-13  0.055654  0.063838  0.055654  0.061109  1031788800        0.0   \n",
       "1986-03-14  0.061109  0.064384  0.061109  0.063292   308160000        0.0   \n",
       "1986-03-17  0.063292  0.064929  0.063292  0.064384   133171200        0.0   \n",
       "1986-03-18  0.064384  0.064929  0.062201  0.062746    67766400        0.0   \n",
       "1986-03-19  0.062746  0.063292  0.061109  0.061655    47894400        0.0   \n",
       "\n",
       "            Stock Splits  \n",
       "Date                      \n",
       "1986-03-13           0.0  \n",
       "1986-03-14           0.0  \n",
       "1986-03-17           0.0  \n",
       "1986-03-18           0.0  \n",
       "1986-03-19           0.0  "
      ]
     },
     "execution_count": 5,
     "metadata": {},
     "output_type": "execute_result"
    }
   ],
   "source": [
    "msft = yf.Ticker('MSFT')\n",
    "msft = msft.history(period='Max')\n",
    "msft.head()"
   ]
  },
  {
   "cell_type": "code",
   "execution_count": 6,
   "id": "d454e962",
   "metadata": {},
   "outputs": [
    {
     "data": {
      "text/plain": [
       "<AxesSubplot:xlabel='Date'>"
      ]
     },
     "execution_count": 6,
     "metadata": {},
     "output_type": "execute_result"
    },
    {
     "data": {
      "image/png": "[encoded data removed]",
      "text/plain": [
       "<Figure size 432x288 with 1 Axes>"
      ]
     },
     "metadata": {
      "needs_background": "light"
     },
     "output_type": "display_data"
    }
   ],
   "source": [
    "msft.plot.line(y='Close', use_index=True)"
   ]
  },
  {
   "cell_type": "markdown",
   "id": "820f1fc2",
   "metadata": {},
   "source": [
    "## Data Preprocessing"
   ]
  },
  {
   "cell_type": "markdown",
   "id": "96b52fba",
   "metadata": {},
   "source": [
    "We select the target feature as following:\n",
    "- We want to see pairs of consecutive rows, if the Close price of the second row is greater than that of first row, then we put Target = 1, otherwise Target = 0"
   ]
  },
  {
   "cell_type": "code",
   "execution_count": 7,
   "id": "24b4c372",
   "metadata": {},
   "outputs": [],
   "source": [
    "data = msft[['Close']]\n",
    "data = data.rename(columns= {'Close': 'Actual_Close'})\n",
    "data['Target'] = msft.rolling(2).apply(lambda x: x.iloc[1] > x.iloc[0])['Close']"
   ]
  },
  {
   "cell_type": "code",
   "execution_count": 8,
   "id": "f682e6d4",
   "metadata": {},
   "outputs": [
    {
     "data": {
      "text/html": [
       "<div>\n",
       "<style scoped>\n",
       "    .dataframe tbody tr th:only-of-type {\n",
       "        vertical-align: middle;\n",
       "    }\n",
       "\n",
       "    .dataframe tbody tr th {\n",
       "        vertical-align: top;\n",
       "    }\n",
       "\n",
       "    .dataframe thead th {\n",
       "        text-align: right;\n",
       "    }\n",
       "</style>\n",
       "<table border=\"1\" class=\"dataframe\">\n",
       "  <thead>\n",
       "    <tr style=\"text-align: right;\">\n",
       "      <th></th>\n",
       "      <th>Actual_Close</th>\n",
       "      <th>Target</th>\n",
       "    </tr>\n",
       "    <tr>\n",
       "      <th>Date</th>\n",
       "      <th></th>\n",
       "      <th></th>\n",
       "    </tr>\n",
       "  </thead>\n",
       "  <tbody>\n",
       "    <tr>\n",
       "      <th>1986-03-13</th>\n",
       "      <td>0.061109</td>\n",
       "      <td>NaN</td>\n",
       "    </tr>\n",
       "    <tr>\n",
       "      <th>1986-03-14</th>\n",
       "      <td>0.063292</td>\n",
       "      <td>1.0</td>\n",
       "    </tr>\n",
       "    <tr>\n",
       "      <th>1986-03-17</th>\n",
       "      <td>0.064384</td>\n",
       "      <td>1.0</td>\n",
       "    </tr>\n",
       "    <tr>\n",
       "      <th>1986-03-18</th>\n",
       "      <td>0.062746</td>\n",
       "      <td>0.0</td>\n",
       "    </tr>\n",
       "    <tr>\n",
       "      <th>1986-03-19</th>\n",
       "      <td>0.061655</td>\n",
       "      <td>0.0</td>\n",
       "    </tr>\n",
       "  </tbody>\n",
       "</table>\n",
       "</div>"
      ],
      "text/plain": [
       "            Actual_Close  Target\n",
       "Date                            \n",
       "1986-03-13      0.061109     NaN\n",
       "1986-03-14      0.063292     1.0\n",
       "1986-03-17      0.064384     1.0\n",
       "1986-03-18      0.062746     0.0\n",
       "1986-03-19      0.061655     0.0"
      ]
     },
     "execution_count": 8,
     "metadata": {},
     "output_type": "execute_result"
    }
   ],
   "source": [
    "data.head()"
   ]
  },
  {
   "cell_type": "code",
   "execution_count": 31,
   "id": "b5a1e8ae",
   "metadata": {},
   "outputs": [
    {
     "data": {
      "text/plain": [
       "1.0    4621\n",
       "0.0    4520\n",
       "Name: Target, dtype: int64"
      ]
     },
     "execution_count": 31,
     "metadata": {},
     "output_type": "execute_result"
    }
   ],
   "source": [
    "data['Target'].value_counts()"
   ]
  },
  {
   "cell_type": "code",
   "execution_count": 9,
   "id": "ffa89b3c",
   "metadata": {},
   "outputs": [
    {
     "data": {
      "text/html": [
       "<div>\n",
       "<style scoped>\n",
       "    .dataframe tbody tr th:only-of-type {\n",
       "        vertical-align: middle;\n",
       "    }\n",
       "\n",
       "    .dataframe tbody tr th {\n",
       "        vertical-align: top;\n",
       "    }\n",
       "\n",
       "    .dataframe thead th {\n",
       "        text-align: right;\n",
       "    }\n",
       "</style>\n",
       "<table border=\"1\" class=\"dataframe\">\n",
       "  <thead>\n",
       "    <tr style=\"text-align: right;\">\n",
       "      <th></th>\n",
       "      <th>Open</th>\n",
       "      <th>High</th>\n",
       "      <th>Low</th>\n",
       "      <th>Close</th>\n",
       "      <th>Volume</th>\n",
       "      <th>Dividends</th>\n",
       "      <th>Stock Splits</th>\n",
       "    </tr>\n",
       "    <tr>\n",
       "      <th>Date</th>\n",
       "      <th></th>\n",
       "      <th></th>\n",
       "      <th></th>\n",
       "      <th></th>\n",
       "      <th></th>\n",
       "      <th></th>\n",
       "      <th></th>\n",
       "    </tr>\n",
       "  </thead>\n",
       "  <tbody>\n",
       "    <tr>\n",
       "      <th>1986-03-13</th>\n",
       "      <td>NaN</td>\n",
       "      <td>NaN</td>\n",
       "      <td>NaN</td>\n",
       "      <td>NaN</td>\n",
       "      <td>NaN</td>\n",
       "      <td>NaN</td>\n",
       "      <td>NaN</td>\n",
       "    </tr>\n",
       "    <tr>\n",
       "      <th>1986-03-14</th>\n",
       "      <td>0.055654</td>\n",
       "      <td>0.063838</td>\n",
       "      <td>0.055654</td>\n",
       "      <td>0.061109</td>\n",
       "      <td>1.031789e+09</td>\n",
       "      <td>0.0</td>\n",
       "      <td>0.0</td>\n",
       "    </tr>\n",
       "    <tr>\n",
       "      <th>1986-03-17</th>\n",
       "      <td>0.061109</td>\n",
       "      <td>0.064384</td>\n",
       "      <td>0.061109</td>\n",
       "      <td>0.063292</td>\n",
       "      <td>3.081600e+08</td>\n",
       "      <td>0.0</td>\n",
       "      <td>0.0</td>\n",
       "    </tr>\n",
       "    <tr>\n",
       "      <th>1986-03-18</th>\n",
       "      <td>0.063292</td>\n",
       "      <td>0.064929</td>\n",
       "      <td>0.063292</td>\n",
       "      <td>0.064384</td>\n",
       "      <td>1.331712e+08</td>\n",
       "      <td>0.0</td>\n",
       "      <td>0.0</td>\n",
       "    </tr>\n",
       "    <tr>\n",
       "      <th>1986-03-19</th>\n",
       "      <td>0.064384</td>\n",
       "      <td>0.064929</td>\n",
       "      <td>0.062201</td>\n",
       "      <td>0.062746</td>\n",
       "      <td>6.776640e+07</td>\n",
       "      <td>0.0</td>\n",
       "      <td>0.0</td>\n",
       "    </tr>\n",
       "  </tbody>\n",
       "</table>\n",
       "</div>"
      ],
      "text/plain": [
       "                Open      High       Low     Close        Volume  Dividends  \\\n",
       "Date                                                                          \n",
       "1986-03-13       NaN       NaN       NaN       NaN           NaN        NaN   \n",
       "1986-03-14  0.055654  0.063838  0.055654  0.061109  1.031789e+09        0.0   \n",
       "1986-03-17  0.061109  0.064384  0.061109  0.063292  3.081600e+08        0.0   \n",
       "1986-03-18  0.063292  0.064929  0.063292  0.064384  1.331712e+08        0.0   \n",
       "1986-03-19  0.064384  0.064929  0.062201  0.062746  6.776640e+07        0.0   \n",
       "\n",
       "            Stock Splits  \n",
       "Date                      \n",
       "1986-03-13           NaN  \n",
       "1986-03-14           0.0  \n",
       "1986-03-17           0.0  \n",
       "1986-03-18           0.0  \n",
       "1986-03-19           0.0  "
      ]
     },
     "execution_count": 9,
     "metadata": {},
     "output_type": "execute_result"
    }
   ],
   "source": [
    "msft_prev = msft.copy()\n",
    "msft_prev = msft_prev.shift(1)\n",
    "msft_prev.head()"
   ]
  },
  {
   "cell_type": "code",
   "execution_count": 10,
   "id": "47754e83",
   "metadata": {},
   "outputs": [
    {
     "data": {
      "text/html": [
       "<div>\n",
       "<style scoped>\n",
       "    .dataframe tbody tr th:only-of-type {\n",
       "        vertical-align: middle;\n",
       "    }\n",
       "\n",
       "    .dataframe tbody tr th {\n",
       "        vertical-align: top;\n",
       "    }\n",
       "\n",
       "    .dataframe thead th {\n",
       "        text-align: right;\n",
       "    }\n",
       "</style>\n",
       "<table border=\"1\" class=\"dataframe\">\n",
       "  <thead>\n",
       "    <tr style=\"text-align: right;\">\n",
       "      <th></th>\n",
       "      <th>Actual_Close</th>\n",
       "      <th>Target</th>\n",
       "      <th>Close</th>\n",
       "      <th>Open</th>\n",
       "      <th>High</th>\n",
       "      <th>Low</th>\n",
       "      <th>Volume</th>\n",
       "    </tr>\n",
       "    <tr>\n",
       "      <th>Date</th>\n",
       "      <th></th>\n",
       "      <th></th>\n",
       "      <th></th>\n",
       "      <th></th>\n",
       "      <th></th>\n",
       "      <th></th>\n",
       "      <th></th>\n",
       "    </tr>\n",
       "  </thead>\n",
       "  <tbody>\n",
       "    <tr>\n",
       "      <th>1986-03-14</th>\n",
       "      <td>0.063292</td>\n",
       "      <td>1.0</td>\n",
       "      <td>0.061109</td>\n",
       "      <td>0.055654</td>\n",
       "      <td>0.063838</td>\n",
       "      <td>0.055654</td>\n",
       "      <td>1.031789e+09</td>\n",
       "    </tr>\n",
       "    <tr>\n",
       "      <th>1986-03-17</th>\n",
       "      <td>0.064384</td>\n",
       "      <td>1.0</td>\n",
       "      <td>0.063292</td>\n",
       "      <td>0.061109</td>\n",
       "      <td>0.064384</td>\n",
       "      <td>0.061109</td>\n",
       "      <td>3.081600e+08</td>\n",
       "    </tr>\n",
       "    <tr>\n",
       "      <th>1986-03-18</th>\n",
       "      <td>0.062746</td>\n",
       "      <td>0.0</td>\n",
       "      <td>0.064384</td>\n",
       "      <td>0.063292</td>\n",
       "      <td>0.064929</td>\n",
       "      <td>0.063292</td>\n",
       "      <td>1.331712e+08</td>\n",
       "    </tr>\n",
       "    <tr>\n",
       "      <th>1986-03-19</th>\n",
       "      <td>0.061655</td>\n",
       "      <td>0.0</td>\n",
       "      <td>0.062746</td>\n",
       "      <td>0.064384</td>\n",
       "      <td>0.064929</td>\n",
       "      <td>0.062201</td>\n",
       "      <td>6.776640e+07</td>\n",
       "    </tr>\n",
       "    <tr>\n",
       "      <th>1986-03-20</th>\n",
       "      <td>0.060018</td>\n",
       "      <td>0.0</td>\n",
       "      <td>0.061655</td>\n",
       "      <td>0.062746</td>\n",
       "      <td>0.063292</td>\n",
       "      <td>0.061109</td>\n",
       "      <td>4.789440e+07</td>\n",
       "    </tr>\n",
       "  </tbody>\n",
       "</table>\n",
       "</div>"
      ],
      "text/plain": [
       "            Actual_Close  Target     Close      Open      High       Low  \\\n",
       "Date                                                                       \n",
       "1986-03-14      0.063292     1.0  0.061109  0.055654  0.063838  0.055654   \n",
       "1986-03-17      0.064384     1.0  0.063292  0.061109  0.064384  0.061109   \n",
       "1986-03-18      0.062746     0.0  0.064384  0.063292  0.064929  0.063292   \n",
       "1986-03-19      0.061655     0.0  0.062746  0.064384  0.064929  0.062201   \n",
       "1986-03-20      0.060018     0.0  0.061655  0.062746  0.063292  0.061109   \n",
       "\n",
       "                  Volume  \n",
       "Date                      \n",
       "1986-03-14  1.031789e+09  \n",
       "1986-03-17  3.081600e+08  \n",
       "1986-03-18  1.331712e+08  \n",
       "1986-03-19  6.776640e+07  \n",
       "1986-03-20  4.789440e+07  "
      ]
     },
     "execution_count": 10,
     "metadata": {},
     "output_type": "execute_result"
    }
   ],
   "source": [
    "predictors = ['Close', 'Open', 'High', 'Low', 'Volume']\n",
    "data = data.join(msft_prev[predictors]).iloc[1:]\n",
    "data.head()"
   ]
  },
  {
   "cell_type": "markdown",
   "id": "d255d682",
   "metadata": {},
   "source": [
    "## Model Initialisation"
   ]
  },
  {
   "cell_type": "code",
   "execution_count": 12,
   "id": "2d6353ba",
   "metadata": {},
   "outputs": [],
   "source": [
    "model = RandomForestClassifier(n_estimators = 100, min_samples_split=200, random_state=1)"
   ]
  },
  {
   "cell_type": "code",
   "execution_count": 13,
   "id": "3dda9f7d",
   "metadata": {},
   "outputs": [],
   "source": [
    "train = data.iloc[:-100]\n",
    "test =  data.iloc[-100:]"
   ]
  },
  {
   "cell_type": "code",
   "execution_count": 14,
   "id": "591ce08c",
   "metadata": {},
   "outputs": [
    {
     "data": {
      "text/plain": [
       "RandomForestClassifier(min_samples_split=200, random_state=1)"
      ]
     },
     "execution_count": 14,
     "metadata": {},
     "output_type": "execute_result"
    }
   ],
   "source": [
    "model.fit(train[predictors], train['Target'])"
   ]
  },
  {
   "cell_type": "markdown",
   "id": "517cbe7e",
   "metadata": {},
   "source": [
    "## Prediction"
   ]
  },
  {
   "cell_type": "code",
   "execution_count": 16,
   "id": "6b3de83e",
   "metadata": {},
   "outputs": [
    {
     "data": {
      "text/plain": [
       "array([0., 0., 1., 1., 1., 1., 1., 1., 1., 1., 1., 1., 1., 1., 1., 1., 1.,\n",
       "       1., 1., 1., 1., 1., 1., 1., 1., 1., 1., 1., 1., 1., 1., 1., 1., 1.,\n",
       "       1., 1., 1., 1., 1., 1., 1., 1., 0., 1., 1., 1., 1., 1., 1., 1., 1.,\n",
       "       1., 1., 1., 1., 0., 1., 0., 0., 0., 1., 1., 1., 1., 1., 1., 1., 1.,\n",
       "       1., 1., 1., 1., 1., 1., 1., 0., 1., 1., 1., 1., 1., 1., 1., 1., 1.,\n",
       "       1., 1., 1., 1., 1., 1., 1., 1., 1., 1., 1., 0., 1., 1., 1.])"
      ]
     },
     "execution_count": 16,
     "metadata": {},
     "output_type": "execute_result"
    }
   ],
   "source": [
    "preds = model.predict(test[predictors])\n",
    "preds"
   ]
  },
  {
   "cell_type": "code",
   "execution_count": 18,
   "id": "f70c7e40",
   "metadata": {},
   "outputs": [
    {
     "data": {
      "text/plain": [
       "Date\n",
       "2022-01-26    0.0\n",
       "2022-01-27    0.0\n",
       "2022-01-28    1.0\n",
       "2022-01-31    1.0\n",
       "2022-02-01    1.0\n",
       "             ... \n",
       "2022-06-13    1.0\n",
       "2022-06-14    0.0\n",
       "2022-06-15    1.0\n",
       "2022-06-16    1.0\n",
       "2022-06-17    1.0\n",
       "Length: 100, dtype: float64"
      ]
     },
     "execution_count": 18,
     "metadata": {},
     "output_type": "execute_result"
    }
   ],
   "source": [
    "preds = pd.Series(preds, index=test.index)\n",
    "preds"
   ]
  },
  {
   "cell_type": "code",
   "execution_count": 19,
   "id": "28a27861",
   "metadata": {},
   "outputs": [
    {
     "data": {
      "text/plain": [
       "0.45054945054945056"
      ]
     },
     "execution_count": 19,
     "metadata": {},
     "output_type": "execute_result"
    }
   ],
   "source": [
    "precision_score(test['Target'], preds)"
   ]
  },
  {
   "cell_type": "code",
   "execution_count": 20,
   "id": "512b6378",
   "metadata": {},
   "outputs": [
    {
     "data": {
      "text/html": [
       "<div>\n",
       "<style scoped>\n",
       "    .dataframe tbody tr th:only-of-type {\n",
       "        vertical-align: middle;\n",
       "    }\n",
       "\n",
       "    .dataframe tbody tr th {\n",
       "        vertical-align: top;\n",
       "    }\n",
       "\n",
       "    .dataframe thead th {\n",
       "        text-align: right;\n",
       "    }\n",
       "</style>\n",
       "<table border=\"1\" class=\"dataframe\">\n",
       "  <thead>\n",
       "    <tr style=\"text-align: right;\">\n",
       "      <th></th>\n",
       "      <th>Target</th>\n",
       "      <th>Predictions</th>\n",
       "    </tr>\n",
       "    <tr>\n",
       "      <th>Date</th>\n",
       "      <th></th>\n",
       "      <th></th>\n",
       "    </tr>\n",
       "  </thead>\n",
       "  <tbody>\n",
       "    <tr>\n",
       "      <th>2022-01-26</th>\n",
       "      <td>1.0</td>\n",
       "      <td>0.0</td>\n",
       "    </tr>\n",
       "    <tr>\n",
       "      <th>2022-01-27</th>\n",
       "      <td>1.0</td>\n",
       "      <td>0.0</td>\n",
       "    </tr>\n",
       "    <tr>\n",
       "      <th>2022-01-28</th>\n",
       "      <td>1.0</td>\n",
       "      <td>1.0</td>\n",
       "    </tr>\n",
       "    <tr>\n",
       "      <th>2022-01-31</th>\n",
       "      <td>1.0</td>\n",
       "      <td>1.0</td>\n",
       "    </tr>\n",
       "    <tr>\n",
       "      <th>2022-02-01</th>\n",
       "      <td>0.0</td>\n",
       "      <td>1.0</td>\n",
       "    </tr>\n",
       "    <tr>\n",
       "      <th>...</th>\n",
       "      <td>...</td>\n",
       "      <td>...</td>\n",
       "    </tr>\n",
       "    <tr>\n",
       "      <th>2022-06-13</th>\n",
       "      <td>0.0</td>\n",
       "      <td>1.0</td>\n",
       "    </tr>\n",
       "    <tr>\n",
       "      <th>2022-06-14</th>\n",
       "      <td>1.0</td>\n",
       "      <td>0.0</td>\n",
       "    </tr>\n",
       "    <tr>\n",
       "      <th>2022-06-15</th>\n",
       "      <td>1.0</td>\n",
       "      <td>1.0</td>\n",
       "    </tr>\n",
       "    <tr>\n",
       "      <th>2022-06-16</th>\n",
       "      <td>0.0</td>\n",
       "      <td>1.0</td>\n",
       "    </tr>\n",
       "    <tr>\n",
       "      <th>2022-06-17</th>\n",
       "      <td>1.0</td>\n",
       "      <td>1.0</td>\n",
       "    </tr>\n",
       "  </tbody>\n",
       "</table>\n",
       "<p>100 rows × 2 columns</p>\n",
       "</div>"
      ],
      "text/plain": [
       "            Target  Predictions\n",
       "Date                           \n",
       "2022-01-26     1.0          0.0\n",
       "2022-01-27     1.0          0.0\n",
       "2022-01-28     1.0          1.0\n",
       "2022-01-31     1.0          1.0\n",
       "2022-02-01     0.0          1.0\n",
       "...            ...          ...\n",
       "2022-06-13     0.0          1.0\n",
       "2022-06-14     1.0          0.0\n",
       "2022-06-15     1.0          1.0\n",
       "2022-06-16     0.0          1.0\n",
       "2022-06-17     1.0          1.0\n",
       "\n",
       "[100 rows x 2 columns]"
      ]
     },
     "execution_count": 20,
     "metadata": {},
     "output_type": "execute_result"
    }
   ],
   "source": [
    "combined = pd.concat({'Target': test['Target'], 'Predictions': preds}, axis=1)\n",
    "combined"
   ]
  },
  {
   "cell_type": "code",
   "execution_count": 21,
   "id": "9bb358d9",
   "metadata": {},
   "outputs": [
    {
     "data": {
      "text/plain": [
       "<AxesSubplot:xlabel='Date'>"
      ]
     },
     "execution_count": 21,
     "metadata": {},
     "output_type": "execute_result"
    },
    {
     "data": {
      "image/png": "[encoded data removed]",
      "text/plain": [
       "<Figure size 432x288 with 1 Axes>"
      ]
     },
     "metadata": {
      "needs_background": "light"
     },
     "output_type": "display_data"
    }
   ],
   "source": [
    "combined.plot()"
   ]
  },
  {
   "cell_type": "markdown",
   "id": "6fbb210c",
   "metadata": {},
   "source": [
    "## Backtesting Enginer"
   ]
  },
  {
   "cell_type": "markdown",
   "id": "fd579b4e",
   "metadata": {},
   "source": [
    "- Robust Error Metrics"
   ]
  },
  {
   "cell_type": "code",
   "execution_count": 36,
   "id": "45bb5587",
   "metadata": {},
   "outputs": [],
   "source": [
    "start = 1000\n",
    "step = 750"
   ]
  },
  {
   "cell_type": "code",
   "execution_count": 47,
   "id": "221b62b8",
   "metadata": {},
   "outputs": [],
   "source": [
    "def backtest(data, model, predictors, start = 1000, step = 750):\n",
    "    predictions = []\n",
    "    for i in range(start, data.shape[0], step):\n",
    "        train = data.iloc[0:i].copy()\n",
    "        test = data.iloc[i:(i + step)].copy()\n",
    "\n",
    "        model.fit(train[predictors], train['Target'])\n",
    "\n",
    "        preds = model.predict_proba(test[predictors])[:,1]\n",
    "        preds[preds > .6] = 1\n",
    "        preds[preds <= .6] = 0\n",
    "\n",
    "        preds = pd.Series(preds, index=test.index)\n",
    "        combined = pd.concat({'Target': test['Target'], 'Predictions': preds}, axis=1)\n",
    "\n",
    "        predictions.append(combined)\n",
    "\n",
    "    predictions = pd.concat(predictions)\n",
    "    return predictions"
   ]
  },
  {
   "cell_type": "code",
   "execution_count": 38,
   "id": "d415f6f5",
   "metadata": {},
   "outputs": [
    {
     "data": {
      "text/plain": [
       "0.0    7412\n",
       "1.0     729\n",
       "Name: Predictions, dtype: int64"
      ]
     },
     "execution_count": 38,
     "metadata": {},
     "output_type": "execute_result"
    }
   ],
   "source": [
    "predictions['Predictions'].value_counts()"
   ]
  },
  {
   "cell_type": "code",
   "execution_count": 39,
   "id": "6c5cca3d",
   "metadata": {},
   "outputs": [
    {
     "data": {
      "text/plain": [
       "0.5006858710562414"
      ]
     },
     "execution_count": 39,
     "metadata": {},
     "output_type": "execute_result"
    }
   ],
   "source": [
    "precision_score(predictions['Target'], predictions['Predictions'])"
   ]
  },
  {
   "cell_type": "markdown",
   "id": "5420d3dc",
   "metadata": {},
   "source": [
    "## Improving the Model Accuracy"
   ]
  },
  {
   "cell_type": "code",
   "execution_count": 41,
   "id": "f97b677f",
   "metadata": {},
   "outputs": [],
   "source": [
    "weekly_mean = data.rolling(7).mean()\n",
    "quarterly_mean = data.rolling(90).mean()\n",
    "annual_mean = data.rolling(365).mean()\n",
    "\n",
    "weekly_trend = data.shift(1).rolling(7).mean()['Target']"
   ]
  },
  {
   "cell_type": "code",
   "execution_count": 42,
   "id": "ce125371",
   "metadata": {},
   "outputs": [],
   "source": [
    "data['weekly_mean'] = weekly_mean['Close'] / data['Close']\n",
    "data['quarterly_mean'] = quarterly_mean['Close'] / data['Close']\n",
    "data['annual_mean'] = annual_mean['Close'] / data['Close']\n",
    "\n",
    "data['annual_weekly_mean'] = data['annual_mean'] / data['weekly_mean']\n",
    "data['annual_quarterly_mean'] = data['annual_mean'] / data['weekly_mean']\n",
    "data['weekly_trend'] = weekly_trend\n",
    "\n",
    "data['open_close_ratio'] = data['Open'] / data['Close']\n",
    "data['high_close_ratio'] = data['High'] / data['Close']\n",
    "data['low_close_ratio'] = data['Low'] / data['Close']"
   ]
  },
  {
   "cell_type": "code",
   "execution_count": 44,
   "id": "fcb0de87",
   "metadata": {},
   "outputs": [],
   "source": [
    "full_predictors = predictors + ['weekly_mean', 'quarterly_mean', 'annual_mean', 'annual_weekly_mean', 'annual_quarterly_mean', 'weekly_trend', 'open_close_ratio', 'high_close_ratio', 'low_close_ratio']"
   ]
  },
  {
   "cell_type": "code",
   "execution_count": 48,
   "id": "5cd940ff",
   "metadata": {},
   "outputs": [],
   "source": [
    "predictions = backtest(data.iloc[365:], model, full_predictors)"
   ]
  },
  {
   "cell_type": "code",
   "execution_count": 49,
   "id": "334861af",
   "metadata": {},
   "outputs": [
    {
     "data": {
      "text/plain": [
       "0.6022099447513812"
      ]
     },
     "execution_count": 49,
     "metadata": {},
     "output_type": "execute_result"
    }
   ],
   "source": [
    "precision_score(predictions['Target'], predictions['Predictions'])"
   ]
  },
  {
   "cell_type": "code",
   "execution_count": 50,
   "id": "708b5a57",
   "metadata": {},
   "outputs": [
    {
     "data": {
      "text/plain": [
       "0.0    7595\n",
       "1.0     181\n",
       "Name: Predictions, dtype: int64"
      ]
     },
     "execution_count": 50,
     "metadata": {},
     "output_type": "execute_result"
    }
   ],
   "source": [
    "predictions['Predictions'].value_counts()"
   ]
  },
  {
   "cell_type": "code",
   "execution_count": 51,
   "id": "2ef02175",
   "metadata": {},
   "outputs": [
    {
     "data": {
      "text/plain": [
       "<AxesSubplot:xlabel='Date'>"
      ]
     },
     "execution_count": 51,
     "metadata": {},
     "output_type": "execute_result"
    },
    {
     "data": {
      "image/png": "[encoded data removed]",
      "text/plain": [
       "<Figure size 432x288 with 1 Axes>"
      ]
     },
     "metadata": {
      "needs_background": "light"
     },
     "output_type": "display_data"
    }
   ],
   "source": [
    "predictions.plot()"
   ]
  },
  {
   "cell_type": "markdown",
   "id": "05d191a6",
   "metadata": {},
   "source": [
    "# Next Steps"
   ]
  },
  {
   "cell_type": "markdown",
   "id": "a94c5631",
   "metadata": {},
   "source": [
    "1. Calculate how much money you will make using this algorithm\n",
    "2. Reduce the backtest step to 50. Highest accuracy when step =1\n",
    "3. Try different algorithm\n",
    "4. Add other predictors\n",
    "5. If the target was not balanced --> use weighted classes etc"
   ]
  },
  {
   "cell_type": "code",
   "execution_count": null,
   "id": "08a753f2",
   "metadata": {},
   "outputs": [],
   "source": []
  }
 ],
 "metadata": {
  "kernelspec": {
   "display_name": "Python 3 (ipykernel)",
   "language": "python",
   "name": "python3"
  },
  "language_info": {
   "codemirror_mode": {
    "name": "ipython",
    "version": 3
   },
   "file_extension": ".py",
   "mimetype": "text/x-python",
   "name": "python",
   "nbconvert_exporter": "python",
   "pygments_lexer": "ipython3",
   "version": "3.9.7"
  }
 },
 "nbformat": 4,
 "nbformat_minor": 5
}
