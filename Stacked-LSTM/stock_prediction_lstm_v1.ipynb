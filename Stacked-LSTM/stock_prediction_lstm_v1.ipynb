{
 "cells": [
  {
   "cell_type": "markdown",
   "id": "9d8b352c",
   "metadata": {},
   "source": [
    "# Stock Price Prediction Using Stacked LSTM"
   ]
  },
  {
   "cell_type": "markdown",
   "id": "98a1429d",
   "metadata": {},
   "source": [
    "## Libraries"
   ]
  },
  {
   "cell_type": "code",
   "execution_count": 36,
   "id": "98179c1d",
   "metadata": {},
   "outputs": [],
   "source": [
    "import pandas as pd\n",
    "import pandas_datareader as pdr\n",
    "import matplotlib.pyplot as plt\n",
    "import numpy as np\n",
    "import math\n",
    "from sklearn.metrics import mean_squared_error\n",
    "from sklearn.preprocessing import MinMaxScaler\n",
    "\n",
    "%matplotlib inline"
   ]
  },
  {
   "cell_type": "code",
   "execution_count": 31,
   "id": "f9c35bf4",
   "metadata": {},
   "outputs": [],
   "source": [
    "from tensorflow.keras.models import Sequential\n",
    "from tensorflow.keras.layers import Dense\n",
    "from tensorflow.keras.layers import LSTM"
   ]
  },
  {
   "cell_type": "code",
   "execution_count": 8,
   "id": "742d75d6",
   "metadata": {},
   "outputs": [
    {
     "name": "stderr",
     "output_type": "stream",
     "text": [
      "C:\\Anaconda3\\lib\\site-packages\\pandas_datareader\\tiingo.py:234: FutureWarning: In a future version of pandas all arguments of concat except for the argument 'objs' will be keyword-only\n",
      "  return pd.concat(dfs, self._concat_axis)\n"
     ]
    }
   ],
   "source": [
    "key = '55fb816765335a53c016881aebe8fb20ee89ef29'\n",
    "df = pdr.get_data_tiingo('AAPL', api_key = key)"
   ]
  },
  {
   "cell_type": "code",
   "execution_count": 9,
   "id": "290d5142",
   "metadata": {},
   "outputs": [],
   "source": [
    "df.to_csv('AAPL.csv')"
   ]
  },
  {
   "cell_type": "code",
   "execution_count": 10,
   "id": "2c8c9e7f",
   "metadata": {},
   "outputs": [],
   "source": [
    "df = pd.read_csv('AAPL.csv')"
   ]
  },
  {
   "cell_type": "code",
   "execution_count": 11,
   "id": "659339f5",
   "metadata": {},
   "outputs": [
    {
     "data": {
      "text/html": [
       "<div>\n",
       "<style scoped>\n",
       "    .dataframe tbody tr th:only-of-type {\n",
       "        vertical-align: middle;\n",
       "    }\n",
       "\n",
       "    .dataframe tbody tr th {\n",
       "        vertical-align: top;\n",
       "    }\n",
       "\n",
       "    .dataframe thead th {\n",
       "        text-align: right;\n",
       "    }\n",
       "</style>\n",
       "<table border=\"1\" class=\"dataframe\">\n",
       "  <thead>\n",
       "    <tr style=\"text-align: right;\">\n",
       "      <th></th>\n",
       "      <th>symbol</th>\n",
       "      <th>date</th>\n",
       "      <th>close</th>\n",
       "      <th>high</th>\n",
       "      <th>low</th>\n",
       "      <th>open</th>\n",
       "      <th>volume</th>\n",
       "      <th>adjClose</th>\n",
       "      <th>adjHigh</th>\n",
       "      <th>adjLow</th>\n",
       "      <th>adjOpen</th>\n",
       "      <th>adjVolume</th>\n",
       "      <th>divCash</th>\n",
       "      <th>splitFactor</th>\n",
       "    </tr>\n",
       "  </thead>\n",
       "  <tbody>\n",
       "    <tr>\n",
       "      <th>0</th>\n",
       "      <td>AAPL</td>\n",
       "      <td>2017-06-21 00:00:00+00:00</td>\n",
       "      <td>145.87</td>\n",
       "      <td>146.0693</td>\n",
       "      <td>144.6100</td>\n",
       "      <td>145.52</td>\n",
       "      <td>21064679</td>\n",
       "      <td>34.516282</td>\n",
       "      <td>34.563441</td>\n",
       "      <td>34.218136</td>\n",
       "      <td>34.433463</td>\n",
       "      <td>84258716</td>\n",
       "      <td>0.0</td>\n",
       "      <td>1.0</td>\n",
       "    </tr>\n",
       "    <tr>\n",
       "      <th>1</th>\n",
       "      <td>AAPL</td>\n",
       "      <td>2017-06-22 00:00:00+00:00</td>\n",
       "      <td>145.63</td>\n",
       "      <td>146.7000</td>\n",
       "      <td>145.1199</td>\n",
       "      <td>145.77</td>\n",
       "      <td>18673365</td>\n",
       "      <td>34.459492</td>\n",
       "      <td>34.712679</td>\n",
       "      <td>34.338790</td>\n",
       "      <td>34.492619</td>\n",
       "      <td>74693460</td>\n",
       "      <td>0.0</td>\n",
       "      <td>1.0</td>\n",
       "    </tr>\n",
       "    <tr>\n",
       "      <th>2</th>\n",
       "      <td>AAPL</td>\n",
       "      <td>2017-06-23 00:00:00+00:00</td>\n",
       "      <td>146.28</td>\n",
       "      <td>147.1600</td>\n",
       "      <td>145.1100</td>\n",
       "      <td>145.13</td>\n",
       "      <td>25997976</td>\n",
       "      <td>34.613297</td>\n",
       "      <td>34.821526</td>\n",
       "      <td>34.336448</td>\n",
       "      <td>34.341180</td>\n",
       "      <td>103991904</td>\n",
       "      <td>0.0</td>\n",
       "      <td>1.0</td>\n",
       "    </tr>\n",
       "    <tr>\n",
       "      <th>3</th>\n",
       "      <td>AAPL</td>\n",
       "      <td>2017-06-26 00:00:00+00:00</td>\n",
       "      <td>145.82</td>\n",
       "      <td>148.2800</td>\n",
       "      <td>145.3800</td>\n",
       "      <td>147.17</td>\n",
       "      <td>25524661</td>\n",
       "      <td>34.504451</td>\n",
       "      <td>35.086545</td>\n",
       "      <td>34.400336</td>\n",
       "      <td>34.823892</td>\n",
       "      <td>102098644</td>\n",
       "      <td>0.0</td>\n",
       "      <td>1.0</td>\n",
       "    </tr>\n",
       "    <tr>\n",
       "      <th>4</th>\n",
       "      <td>AAPL</td>\n",
       "      <td>2017-06-27 00:00:00+00:00</td>\n",
       "      <td>143.73</td>\n",
       "      <td>146.1600</td>\n",
       "      <td>143.6200</td>\n",
       "      <td>145.01</td>\n",
       "      <td>24423643</td>\n",
       "      <td>34.009907</td>\n",
       "      <td>34.584903</td>\n",
       "      <td>33.983879</td>\n",
       "      <td>34.312785</td>\n",
       "      <td>97694572</td>\n",
       "      <td>0.0</td>\n",
       "      <td>1.0</td>\n",
       "    </tr>\n",
       "  </tbody>\n",
       "</table>\n",
       "</div>"
      ],
      "text/plain": [
       "  symbol                       date   close      high       low    open  \\\n",
       "0   AAPL  2017-06-21 00:00:00+00:00  145.87  146.0693  144.6100  145.52   \n",
       "1   AAPL  2017-06-22 00:00:00+00:00  145.63  146.7000  145.1199  145.77   \n",
       "2   AAPL  2017-06-23 00:00:00+00:00  146.28  147.1600  145.1100  145.13   \n",
       "3   AAPL  2017-06-26 00:00:00+00:00  145.82  148.2800  145.3800  147.17   \n",
       "4   AAPL  2017-06-27 00:00:00+00:00  143.73  146.1600  143.6200  145.01   \n",
       "\n",
       "     volume   adjClose    adjHigh     adjLow    adjOpen  adjVolume  divCash  \\\n",
       "0  21064679  34.516282  34.563441  34.218136  34.433463   84258716      0.0   \n",
       "1  18673365  34.459492  34.712679  34.338790  34.492619   74693460      0.0   \n",
       "2  25997976  34.613297  34.821526  34.336448  34.341180  103991904      0.0   \n",
       "3  25524661  34.504451  35.086545  34.400336  34.823892  102098644      0.0   \n",
       "4  24423643  34.009907  34.584903  33.983879  34.312785   97694572      0.0   \n",
       "\n",
       "   splitFactor  \n",
       "0          1.0  \n",
       "1          1.0  \n",
       "2          1.0  \n",
       "3          1.0  \n",
       "4          1.0  "
      ]
     },
     "execution_count": 11,
     "metadata": {},
     "output_type": "execute_result"
    }
   ],
   "source": [
    "df.head()"
   ]
  },
  {
   "cell_type": "code",
   "execution_count": 13,
   "id": "c85eefcf",
   "metadata": {},
   "outputs": [
    {
     "data": {
      "text/plain": [
       "0       145.87\n",
       "1       145.63\n",
       "2       146.28\n",
       "3       145.82\n",
       "4       143.73\n",
       "         ...  \n",
       "1253    131.88\n",
       "1254    132.76\n",
       "1255    135.43\n",
       "1256    130.06\n",
       "1257    131.56\n",
       "Name: close, Length: 1258, dtype: float64"
      ]
     },
     "execution_count": 13,
     "metadata": {},
     "output_type": "execute_result"
    }
   ],
   "source": [
    "data_close = df.reset_index()['close']\n",
    "data_close"
   ]
  },
  {
   "cell_type": "code",
   "execution_count": 15,
   "id": "52827718",
   "metadata": {},
   "outputs": [
    {
     "data": {
      "text/plain": [
       "[<matplotlib.lines.Line2D at 0xe3d69d16a0>]"
      ]
     },
     "execution_count": 15,
     "metadata": {},
     "output_type": "execute_result"
    },
    {
     "data": {
      "image/png": "[encoded data removed]",
      "text/plain": [
       "<Figure size 432x288 with 1 Axes>"
      ]
     },
     "metadata": {
      "needs_background": "light"
     },
     "output_type": "display_data"
    }
   ],
   "source": [
    "plt.plot(data_close)"
   ]
  },
  {
   "cell_type": "code",
   "execution_count": 16,
   "id": "6770a6fd",
   "metadata": {},
   "outputs": [],
   "source": [
    "# LSTM is sensitive to the scale of the data\n",
    "# So we apply MinMax scaler -> Values transformed to lie between 0 and 1"
   ]
  },
  {
   "cell_type": "code",
   "execution_count": 18,
   "id": "5f05f003",
   "metadata": {},
   "outputs": [
    {
     "data": {
      "text/plain": [
       "(1258, 1)"
      ]
     },
     "execution_count": 18,
     "metadata": {},
     "output_type": "execute_result"
    }
   ],
   "source": [
    "scaler = MinMaxScaler(feature_range=(0, 1))\n",
    "data_close = scaler.fit_transform(np.array(data_close).reshape(-1, 1))\n",
    "data_close.shape"
   ]
  },
  {
   "cell_type": "code",
   "execution_count": 19,
   "id": "0c2f9ec0",
   "metadata": {},
   "outputs": [
    {
     "data": {
      "text/plain": [
       "array([[0.0977583 ],\n",
       "       [0.09715717],\n",
       "       [0.09878522],\n",
       "       ...,\n",
       "       [0.07160927],\n",
       "       [0.05815905],\n",
       "       [0.06191609]])"
      ]
     },
     "execution_count": 19,
     "metadata": {},
     "output_type": "execute_result"
    }
   ],
   "source": [
    "data_close"
   ]
  },
  {
   "cell_type": "markdown",
   "id": "d81846b8",
   "metadata": {},
   "source": [
    "## Train Test Split"
   ]
  },
  {
   "cell_type": "markdown",
   "id": "f84aca1b",
   "metadata": {},
   "source": [
    "Generally we use strategies like `Cross Validation` and `Random seed`.\n",
    "\n",
    "In case of time-series data, where the data is ordered by date/time, where the next row depends on the previous row. Thus, the order matters. In here the train set and test set are divided sequentially. First x% records become Train set, then test set becomes the remaining (100-x)% records"
   ]
  },
  {
   "cell_type": "code",
   "execution_count": 21,
   "id": "cdb8e262",
   "metadata": {},
   "outputs": [],
   "source": [
    "training_size = int(len(data_close) * 0.65) # First 65%\n",
    "test_size = len(data_close) - training_size # Remaining 35%\n",
    "\n",
    "train_data, test_data = data_close[:training_size,:], data_close[training_size:len(data_close), :]"
   ]
  },
  {
   "cell_type": "code",
   "execution_count": 22,
   "id": "5f612a82",
   "metadata": {},
   "outputs": [
    {
     "data": {
      "text/plain": [
       "(817, 441)"
      ]
     },
     "execution_count": 22,
     "metadata": {},
     "output_type": "execute_result"
    }
   ],
   "source": [
    "training_size, test_size"
   ]
  },
  {
   "cell_type": "markdown",
   "id": "20cca800",
   "metadata": {},
   "source": [
    "## Data preprocessing\n",
    "\n",
    "Considering timesteps, how many past days we need to consider to predict the value for next date"
   ]
  },
  {
   "cell_type": "markdown",
   "id": "4fd175b7",
   "metadata": {},
   "source": [
    "If training data looks as follows:\n",
    "- 120, 130, 125, 140, 134, 150\n",
    "\n",
    "Timesteps = 3\n",
    "\n",
    "<- X-train -> Y-train\n",
    "f1   f2   f3   o/p\n",
    "120  130  125  140\n",
    "130  125  140  134\n",
    "\n",
    "If test data looks as follows:\n",
    "- 160, 190, 154, 160, 170\n",
    "\n",
    "<- X-test ->  Y-test\n",
    "f1   f2   f3   o/p\n",
    "160  190  154  160\n",
    "190  154  160  170\n",
    "\n",
    "We will train the lstm model using the training data, then we will try to predict over x-test using trained model. And then we will compare the predictions against y-test as calculated above, that will help us analyse how are model is performing."
   ]
  },
  {
   "cell_type": "code",
   "execution_count": 23,
   "id": "e16d006c",
   "metadata": {},
   "outputs": [],
   "source": [
    "def create_dataset(dataset, time_step=1):\n",
    "    dataX, dataY = [], []\n",
    "    for i in range(len(dataset) - time_step - 1):\n",
    "        a = dataset[i: (i+time_step), 0]\n",
    "        dataX.append(a)\n",
    "        dataY.append(dataset[i + time_step, 0])\n",
    "    return np.array(dataX), np.array(dataY)"
   ]
  },
  {
   "cell_type": "code",
   "execution_count": 24,
   "id": "b6733f64",
   "metadata": {},
   "outputs": [],
   "source": [
    "time_step = 100\n",
    "X_train, y_train = create_dataset(train_data, time_step)\n",
    "X_test, y_test = create_dataset(test_data, time_step)"
   ]
  },
  {
   "cell_type": "code",
   "execution_count": 25,
   "id": "7ff4ce23",
   "metadata": {},
   "outputs": [
    {
     "data": {
      "text/plain": [
       "((716, 100), (716,))"
      ]
     },
     "execution_count": 25,
     "metadata": {},
     "output_type": "execute_result"
    }
   ],
   "source": [
    "X_train.shape, y_train.shape"
   ]
  },
  {
   "cell_type": "code",
   "execution_count": 26,
   "id": "865fce6c",
   "metadata": {},
   "outputs": [
    {
     "data": {
      "text/plain": [
       "((340, 100), (340,))"
      ]
     },
     "execution_count": 26,
     "metadata": {},
     "output_type": "execute_result"
    }
   ],
   "source": [
    "X_test.shape, y_test.shape"
   ]
  },
  {
   "cell_type": "code",
   "execution_count": 28,
   "id": "35fafd3c",
   "metadata": {},
   "outputs": [],
   "source": [
    "# Reshape X_train and X_test to 3-D, which would be accepted by the LSTM\n",
    "X_train = X_train.reshape(X_train.shape[0], X_train.shape[1], 1)\n",
    "X_test = X_test.reshape(X_test.shape[0], X_test.shape[1], 1)"
   ]
  },
  {
   "cell_type": "markdown",
   "id": "324122c4",
   "metadata": {},
   "source": [
    "## Model Initialisation"
   ]
  },
  {
   "cell_type": "code",
   "execution_count": 32,
   "id": "4a60435c",
   "metadata": {},
   "outputs": [],
   "source": [
    "model = Sequential()\n",
    "model.add(LSTM(50, return_sequences=True, input_shape=(100, 1)))\n",
    "model.add(LSTM(50, return_sequences=True))\n",
    "model.add(LSTM(50))\n",
    "model.add(Dense(1))\n",
    "model.compile(loss='mean_squared_error', optimizer='adam')"
   ]
  },
  {
   "cell_type": "code",
   "execution_count": 33,
   "id": "27e44ffa",
   "metadata": {},
   "outputs": [
    {
     "name": "stdout",
     "output_type": "stream",
     "text": [
      "Model: \"sequential\"\n",
      "_________________________________________________________________\n",
      " Layer (type)                Output Shape              Param #   \n",
      "=================================================================\n",
      " lstm (LSTM)                 (None, 100, 50)           10400     \n",
      "                                                                 \n",
      " lstm_1 (LSTM)               (None, 100, 50)           20200     \n",
      "                                                                 \n",
      " lstm_2 (LSTM)               (None, 50)                20200     \n",
      "                                                                 \n",
      " dense (Dense)               (None, 1)                 51        \n",
      "                                                                 \n",
      "=================================================================\n",
      "Total params: 50,851\n",
      "Trainable params: 50,851\n",
      "Non-trainable params: 0\n",
      "_________________________________________________________________\n"
     ]
    }
   ],
   "source": [
    "model.summary()"
   ]
  },
  {
   "cell_type": "markdown",
   "id": "b3a99a1f",
   "metadata": {},
   "source": [
    "## Training"
   ]
  },
  {
   "cell_type": "code",
   "execution_count": 34,
   "id": "e7cf1ea7",
   "metadata": {},
   "outputs": [
    {
     "name": "stdout",
     "output_type": "stream",
     "text": [
      "Epoch 1/100\n",
      "12/12 [==============================] - 13s 444ms/step - loss: 0.0475 - val_loss: 0.0046\n",
      "Epoch 2/100\n",
      "12/12 [==============================] - 3s 257ms/step - loss: 0.0148 - val_loss: 0.0090\n",
      "Epoch 3/100\n",
      "12/12 [==============================] - 3s 248ms/step - loss: 0.0113 - val_loss: 5.5110e-04\n",
      "Epoch 4/100\n",
      "12/12 [==============================] - 3s 249ms/step - loss: 0.0105 - val_loss: 0.0011\n",
      "Epoch 5/100\n",
      "12/12 [==============================] - 3s 255ms/step - loss: 0.0090 - val_loss: 0.0012\n",
      "Epoch 6/100\n",
      "12/12 [==============================] - 3s 271ms/step - loss: 0.0085 - val_loss: 3.6001e-04\n",
      "Epoch 7/100\n",
      "12/12 [==============================] - 3s 262ms/step - loss: 0.0077 - val_loss: 0.0012\n",
      "Epoch 8/100\n",
      "12/12 [==============================] - 3s 235ms/step - loss: 0.0073 - val_loss: 4.1629e-04\n",
      "Epoch 9/100\n",
      "12/12 [==============================] - 3s 238ms/step - loss: 0.0069 - val_loss: 3.4846e-04\n",
      "Epoch 10/100\n",
      "12/12 [==============================] - 3s 256ms/step - loss: 0.0069 - val_loss: 3.5652e-04\n",
      "Epoch 11/100\n",
      "12/12 [==============================] - 3s 246ms/step - loss: 0.0059 - val_loss: 3.8254e-04\n",
      "Epoch 12/100\n",
      "12/12 [==============================] - 3s 244ms/step - loss: 0.0053 - val_loss: 6.1691e-04\n",
      "Epoch 13/100\n",
      "12/12 [==============================] - 3s 239ms/step - loss: 0.0057 - val_loss: 2.0171e-04\n",
      "Epoch 14/100\n",
      "12/12 [==============================] - 3s 240ms/step - loss: 0.0046 - val_loss: 4.3270e-04\n",
      "Epoch 15/100\n",
      "12/12 [==============================] - 3s 246ms/step - loss: 0.0045 - val_loss: 2.7345e-04\n",
      "Epoch 16/100\n",
      "12/12 [==============================] - 3s 263ms/step - loss: 0.0040 - val_loss: 0.0013\n",
      "Epoch 17/100\n",
      "12/12 [==============================] - 3s 240ms/step - loss: 0.0039 - val_loss: 8.7655e-04\n",
      "Epoch 18/100\n",
      "12/12 [==============================] - 3s 245ms/step - loss: 0.0039 - val_loss: 5.5142e-04\n",
      "Epoch 19/100\n",
      "12/12 [==============================] - 3s 238ms/step - loss: 0.0034 - val_loss: 6.7824e-04\n",
      "Epoch 20/100\n",
      "12/12 [==============================] - 3s 247ms/step - loss: 0.0029 - val_loss: 5.2041e-04\n",
      "Epoch 21/100\n",
      "12/12 [==============================] - 3s 245ms/step - loss: 0.0027 - val_loss: 5.7383e-04\n",
      "Epoch 22/100\n",
      "12/12 [==============================] - 3s 241ms/step - loss: 0.0031 - val_loss: 2.3206e-04\n",
      "Epoch 23/100\n",
      "12/12 [==============================] - 3s 243ms/step - loss: 0.0025 - val_loss: 3.0072e-04\n",
      "Epoch 24/100\n",
      "12/12 [==============================] - 3s 247ms/step - loss: 0.0024 - val_loss: 3.2914e-04\n",
      "Epoch 25/100\n",
      "12/12 [==============================] - 3s 259ms/step - loss: 0.0026 - val_loss: 2.2202e-04\n",
      "Epoch 26/100\n",
      "12/12 [==============================] - 3s 249ms/step - loss: 0.0026 - val_loss: 2.0052e-04\n",
      "Epoch 27/100\n",
      "12/12 [==============================] - 3s 244ms/step - loss: 0.0023 - val_loss: 3.6572e-04\n",
      "Epoch 28/100\n",
      "12/12 [==============================] - 3s 272ms/step - loss: 0.0025 - val_loss: 2.2294e-04\n",
      "Epoch 29/100\n",
      "12/12 [==============================] - 3s 242ms/step - loss: 0.0035 - val_loss: 5.1085e-04\n",
      "Epoch 30/100\n",
      "12/12 [==============================] - 3s 259ms/step - loss: 0.0028 - val_loss: 4.0853e-04\n",
      "Epoch 31/100\n",
      "12/12 [==============================] - 3s 252ms/step - loss: 0.0023 - val_loss: 2.0047e-04\n",
      "Epoch 32/100\n",
      "12/12 [==============================] - 3s 251ms/step - loss: 0.0023 - val_loss: 2.1769e-04\n",
      "Epoch 33/100\n",
      "12/12 [==============================] - 3s 254ms/step - loss: 0.0030 - val_loss: 1.9931e-04\n",
      "Epoch 34/100\n",
      "12/12 [==============================] - 3s 264ms/step - loss: 0.0022 - val_loss: 1.8352e-04\n",
      "Epoch 35/100\n",
      "12/12 [==============================] - 3s 259ms/step - loss: 0.0019 - val_loss: 2.4911e-04\n",
      "Epoch 36/100\n",
      "12/12 [==============================] - 3s 271ms/step - loss: 0.0027 - val_loss: 3.9596e-04\n",
      "Epoch 37/100\n",
      "12/12 [==============================] - 3s 228ms/step - loss: 0.0026 - val_loss: 1.8170e-04\n",
      "Epoch 38/100\n",
      "12/12 [==============================] - 3s 225ms/step - loss: 0.0023 - val_loss: 2.6168e-04\n",
      "Epoch 39/100\n",
      "12/12 [==============================] - 3s 215ms/step - loss: 0.0019 - val_loss: 1.8337e-04\n",
      "Epoch 40/100\n",
      "12/12 [==============================] - 3s 215ms/step - loss: 0.0018 - val_loss: 1.9036e-04\n",
      "Epoch 41/100\n",
      "12/12 [==============================] - 3s 213ms/step - loss: 0.0023 - val_loss: 2.9374e-04\n",
      "Epoch 42/100\n",
      "12/12 [==============================] - 3s 221ms/step - loss: 0.0018 - val_loss: 1.8021e-04\n",
      "Epoch 43/100\n",
      "12/12 [==============================] - 3s 217ms/step - loss: 0.0023 - val_loss: 2.1024e-04\n",
      "Epoch 44/100\n",
      "12/12 [==============================] - 3s 214ms/step - loss: 0.0019 - val_loss: 1.8316e-04\n",
      "Epoch 45/100\n",
      "12/12 [==============================] - 3s 226ms/step - loss: 0.0020 - val_loss: 1.8108e-04\n",
      "Epoch 46/100\n",
      "12/12 [==============================] - 3s 225ms/step - loss: 0.0030 - val_loss: 1.9988e-04\n",
      "Epoch 47/100\n",
      "12/12 [==============================] - 3s 215ms/step - loss: 0.0022 - val_loss: 1.7802e-04\n",
      "Epoch 48/100\n",
      "12/12 [==============================] - 3s 216ms/step - loss: 0.0020 - val_loss: 1.7845e-04\n",
      "Epoch 49/100\n",
      "12/12 [==============================] - 3s 218ms/step - loss: 0.0017 - val_loss: 3.3612e-04\n",
      "Epoch 50/100\n",
      "12/12 [==============================] - 3s 217ms/step - loss: 0.0017 - val_loss: 1.9173e-04\n",
      "Epoch 51/100\n",
      "12/12 [==============================] - 3s 221ms/step - loss: 0.0014 - val_loss: 1.8701e-04\n",
      "Epoch 52/100\n",
      "12/12 [==============================] - 3s 222ms/step - loss: 0.0016 - val_loss: 1.9114e-04\n",
      "Epoch 53/100\n",
      "12/12 [==============================] - 3s 228ms/step - loss: 0.0045 - val_loss: 0.0013\n",
      "Epoch 54/100\n",
      "12/12 [==============================] - 3s 218ms/step - loss: 0.0046 - val_loss: 5.8080e-04\n",
      "Epoch 55/100\n",
      "12/12 [==============================] - 3s 230ms/step - loss: 0.0039 - val_loss: 6.4679e-04\n",
      "Epoch 56/100\n",
      "12/12 [==============================] - 3s 229ms/step - loss: 0.0036 - val_loss: 8.1194e-04\n",
      "Epoch 57/100\n",
      "12/12 [==============================] - 3s 225ms/step - loss: 0.0031 - val_loss: 3.5848e-04\n",
      "Epoch 58/100\n",
      "12/12 [==============================] - 3s 225ms/step - loss: 0.0024 - val_loss: 2.6538e-04\n",
      "Epoch 59/100\n",
      "12/12 [==============================] - 3s 224ms/step - loss: 0.0020 - val_loss: 3.1738e-04\n",
      "Epoch 60/100\n",
      "12/12 [==============================] - 3s 225ms/step - loss: 0.0020 - val_loss: 3.5364e-04\n",
      "Epoch 61/100\n",
      "12/12 [==============================] - 3s 227ms/step - loss: 0.0020 - val_loss: 2.0392e-04\n",
      "Epoch 62/100\n",
      "12/12 [==============================] - 3s 230ms/step - loss: 0.0019 - val_loss: 1.8427e-04\n",
      "Epoch 63/100\n",
      "12/12 [==============================] - 3s 231ms/step - loss: 0.0017 - val_loss: 2.1781e-04\n",
      "Epoch 64/100\n",
      "12/12 [==============================] - 3s 226ms/step - loss: 0.0025 - val_loss: 5.9413e-04\n",
      "Epoch 65/100\n",
      "12/12 [==============================] - 3s 232ms/step - loss: 0.0029 - val_loss: 1.6592e-04\n",
      "Epoch 66/100\n",
      "12/12 [==============================] - 3s 253ms/step - loss: 0.0019 - val_loss: 2.0164e-04\n",
      "Epoch 67/100\n",
      "12/12 [==============================] - 3s 251ms/step - loss: 0.0022 - val_loss: 1.6144e-04\n",
      "Epoch 68/100\n",
      "12/12 [==============================] - 3s 229ms/step - loss: 0.0018 - val_loss: 2.7962e-04\n",
      "Epoch 69/100\n",
      "12/12 [==============================] - 3s 233ms/step - loss: 0.0021 - val_loss: 1.7320e-04\n",
      "Epoch 70/100\n",
      "12/12 [==============================] - 3s 238ms/step - loss: 0.0018 - val_loss: 1.8380e-04\n",
      "Epoch 71/100\n",
      "12/12 [==============================] - 3s 240ms/step - loss: 0.0025 - val_loss: 1.7038e-04\n",
      "Epoch 72/100\n",
      "12/12 [==============================] - 3s 241ms/step - loss: 0.0027 - val_loss: 2.3896e-04\n",
      "Epoch 73/100\n",
      "12/12 [==============================] - 3s 246ms/step - loss: 0.0023 - val_loss: 5.1947e-04\n",
      "Epoch 74/100\n",
      "12/12 [==============================] - 3s 238ms/step - loss: 0.0025 - val_loss: 8.8111e-04\n",
      "Epoch 75/100\n",
      "12/12 [==============================] - 3s 236ms/step - loss: 0.0017 - val_loss: 2.3035e-04\n",
      "Epoch 76/100\n",
      "12/12 [==============================] - 3s 246ms/step - loss: 0.0015 - val_loss: 2.6013e-04\n",
      "Epoch 77/100\n",
      "12/12 [==============================] - 3s 272ms/step - loss: 0.0014 - val_loss: 1.5674e-04\n",
      "Epoch 78/100\n"
     ]
    },
    {
     "name": "stdout",
     "output_type": "stream",
     "text": [
      "12/12 [==============================] - 3s 243ms/step - loss: 0.0013 - val_loss: 1.6382e-04\n",
      "Epoch 79/100\n",
      "12/12 [==============================] - 3s 235ms/step - loss: 0.0013 - val_loss: 1.8625e-04\n",
      "Epoch 80/100\n",
      "12/12 [==============================] - 3s 252ms/step - loss: 0.0012 - val_loss: 1.5839e-04\n",
      "Epoch 81/100\n",
      "12/12 [==============================] - 3s 234ms/step - loss: 0.0012 - val_loss: 1.6070e-04\n",
      "Epoch 82/100\n",
      "12/12 [==============================] - 3s 228ms/step - loss: 0.0013 - val_loss: 1.6916e-04\n",
      "Epoch 83/100\n",
      "12/12 [==============================] - 3s 229ms/step - loss: 0.0012 - val_loss: 2.3113e-04\n",
      "Epoch 84/100\n",
      "12/12 [==============================] - 3s 243ms/step - loss: 0.0012 - val_loss: 1.6559e-04\n",
      "Epoch 85/100\n",
      "12/12 [==============================] - 3s 244ms/step - loss: 0.0011 - val_loss: 2.7094e-04\n",
      "Epoch 86/100\n",
      "12/12 [==============================] - 3s 261ms/step - loss: 0.0011 - val_loss: 1.7208e-04\n",
      "Epoch 87/100\n",
      "12/12 [==============================] - 3s 236ms/step - loss: 9.7292e-04 - val_loss: 1.6037e-04\n",
      "Epoch 88/100\n",
      "12/12 [==============================] - 3s 233ms/step - loss: 8.8786e-04 - val_loss: 1.9830e-04\n",
      "Epoch 89/100\n",
      "12/12 [==============================] - 3s 232ms/step - loss: 8.1179e-04 - val_loss: 1.8313e-04\n",
      "Epoch 90/100\n",
      "12/12 [==============================] - 3s 235ms/step - loss: 0.0017 - val_loss: 2.1840e-04\n",
      "Epoch 91/100\n",
      "12/12 [==============================] - 3s 234ms/step - loss: 0.0015 - val_loss: 1.6731e-04\n",
      "Epoch 92/100\n",
      "12/12 [==============================] - 3s 238ms/step - loss: 0.0016 - val_loss: 3.5086e-04\n",
      "Epoch 93/100\n",
      "12/12 [==============================] - 3s 250ms/step - loss: 0.0011 - val_loss: 1.6700e-04\n",
      "Epoch 94/100\n",
      "12/12 [==============================] - 3s 246ms/step - loss: 0.0010 - val_loss: 1.9280e-04\n",
      "Epoch 95/100\n",
      "12/12 [==============================] - 3s 241ms/step - loss: 0.0013 - val_loss: 2.7203e-04\n",
      "Epoch 96/100\n",
      "12/12 [==============================] - 3s 235ms/step - loss: 0.0012 - val_loss: 1.6005e-04\n",
      "Epoch 97/100\n",
      "12/12 [==============================] - 3s 247ms/step - loss: 0.0012 - val_loss: 4.8348e-04\n",
      "Epoch 98/100\n",
      "12/12 [==============================] - 3s 253ms/step - loss: 0.0012 - val_loss: 1.9844e-04\n",
      "Epoch 99/100\n",
      "12/12 [==============================] - 3s 242ms/step - loss: 0.0013 - val_loss: 2.5963e-04\n",
      "Epoch 100/100\n",
      "12/12 [==============================] - 3s 240ms/step - loss: 0.0015 - val_loss: 1.9198e-04\n"
     ]
    },
    {
     "data": {
      "text/plain": [
       "<keras.callbacks.History at 0xe3e3936790>"
      ]
     },
     "execution_count": 34,
     "metadata": {},
     "output_type": "execute_result"
    }
   ],
   "source": [
    "model.fit(X_train, y_train, validation_data=(X_test, y_test), epochs = 100, batch_size=64, verbose=1)"
   ]
  },
  {
   "cell_type": "markdown",
   "id": "aba8cd38",
   "metadata": {},
   "source": [
    "## Prediction"
   ]
  },
  {
   "cell_type": "code",
   "execution_count": 37,
   "id": "19b630bc",
   "metadata": {},
   "outputs": [
    {
     "name": "stdout",
     "output_type": "stream",
     "text": [
      "23/23 [==============================] - 3s 45ms/step\n",
      "11/11 [==============================] - 1s 45ms/step\n"
     ]
    }
   ],
   "source": [
    "train_predict = model.predict(X_train)\n",
    "test_predict = model.predict(X_test)"
   ]
  },
  {
   "cell_type": "code",
   "execution_count": 38,
   "id": "9f666048",
   "metadata": {},
   "outputs": [],
   "source": [
    "# Transform back to original form\n",
    "train_predict = scaler.inverse_transform(train_predict)\n",
    "test_predict = scaler.inverse_transform(test_predict)"
   ]
  },
  {
   "cell_type": "markdown",
   "id": "bcbe5029",
   "metadata": {},
   "source": [
    "## Metrics"
   ]
  },
  {
   "cell_type": "code",
   "execution_count": 39,
   "id": "589ae3c0",
   "metadata": {},
   "outputs": [
    {
     "data": {
      "text/plain": [
       "240.41343735438386"
      ]
     },
     "execution_count": 39,
     "metadata": {},
     "output_type": "execute_result"
    }
   ],
   "source": [
    "# Calculating RMSE\n",
    "math.sqrt(mean_squared_error(y_train, train_predict))"
   ]
  },
  {
   "cell_type": "code",
   "execution_count": 40,
   "id": "02cdce66",
   "metadata": {},
   "outputs": [
    {
     "data": {
      "text/plain": [
       "151.84672204371753"
      ]
     },
     "execution_count": 40,
     "metadata": {},
     "output_type": "execute_result"
    }
   ],
   "source": [
    "math.sqrt(mean_squared_error(y_test, test_predict))"
   ]
  },
  {
   "cell_type": "markdown",
   "id": "bfced127",
   "metadata": {},
   "source": [
    "## Visualization"
   ]
  },
  {
   "cell_type": "code",
   "execution_count": 43,
   "id": "02952955",
   "metadata": {},
   "outputs": [
    {
     "data": {
      "image/png": "[encoded data removed]",
      "text/plain": [
       "<Figure size 432x288 with 1 Axes>"
      ]
     },
     "metadata": {
      "needs_background": "light"
     },
     "output_type": "display_data"
    }
   ],
   "source": [
    "look_back = 100\n",
    "trainPredictPlot = np.empty_like(data_close)\n",
    "trainPredictPlot[:, :] = np.nan\n",
    "trainPredictPlot[look_back: len(train_predict) + look_back, :] = train_predict\n",
    "\n",
    "testPredictPlot = np.empty_like(data_close)\n",
    "testPredictPlot[:, :] = np.nan\n",
    "testPredictPlot[len(train_predict) + (look_back * 2) + 1: len(data_close) - 1, :] = test_predict\n",
    "\n",
    "plt.plot(scaler.inverse_transform(data_close)) # Scaling up the values to the actual scale\n",
    "plt.plot(trainPredictPlot)\n",
    "plt.plot(testPredictPlot)\n",
    "plt.legend(['Original', 'Train Data Predictions', 'Test Data Predictions'])\n",
    "plt.show()"
   ]
  },
  {
   "cell_type": "markdown",
   "id": "0766b544",
   "metadata": {},
   "source": [
    "## Predicting future 30 days"
   ]
  },
  {
   "cell_type": "code",
   "execution_count": null,
   "id": "d8c7cf26",
   "metadata": {},
   "outputs": [],
   "source": []
  }
 ],
 "metadata": {
  "kernelspec": {
   "display_name": "Python 3 (ipykernel)",
   "language": "python",
   "name": "python3"
  },
  "language_info": {
   "codemirror_mode": {
    "name": "ipython",
    "version": 3
   },
   "file_extension": ".py",
   "mimetype": "text/x-python",
   "name": "python",
   "nbconvert_exporter": "python",
   "pygments_lexer": "ipython3",
   "version": "3.9.7"
  }
 },
 "nbformat": 4,
 "nbformat_minor": 5
}
